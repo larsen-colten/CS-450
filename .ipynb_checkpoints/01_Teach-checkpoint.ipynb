{
 "cells": [
  {
   "cell_type": "markdown",
   "metadata": {},
   "source": [
    "## Part 1 - Classes"
   ]
  },
  {
   "cell_type": "markdown",
   "metadata": {},
   "source": [
    "1. Create a class to represent a Movie. It should have a title, a year, and a runtime (in minutes)"
   ]
  },
  {
   "cell_type": "code",
   "execution_count": 43,
   "metadata": {},
   "outputs": [],
   "source": [
    "class Movie:\n",
    "    def __init__(self, title=\"\", year=0, runtime=0):\n",
    "        self.title = title\n",
    "        self.year = year\n",
    "        if runtime >= 0:\n",
    "            self.runtime = runtime\n",
    "        else:\n",
    "            self.runtime = 0\n",
    "        \n",
    "        \n",
    "    def __repr__(self):\n",
    "        return(f\"The title is {self.title} ({self.year}) {self.runtime} minutes\")\n",
    "    def runtime_hours(self):\n",
    "        hours = self.runtime // 60\n",
    "        minutes = self.runtime % 60\n",
    "        return(hours, minutes)\n"
   ]
  },
  {
   "cell_type": "markdown",
   "metadata": {},
   "source": [
    "2. Create a movie object and fill it in with appropriate data"
   ]
  },
  {
   "cell_type": "code",
   "execution_count": 44,
   "metadata": {},
   "outputs": [
    {
     "name": "stdout",
     "output_type": "stream",
     "text": [
      "Best Movie Ever\n",
      "2020\n",
      "190\n"
     ]
    }
   ],
   "source": [
    "new_movie = Movie()\n",
    "new_movie.title, new_movie.year, new_movie.runtime = \"Best Movie Ever\", 2020, 190\n",
    "\n",
    "print(new_movie.title)\n",
    "print(new_movie.year)\n",
    "print(new_movie.runtime)"
   ]
  },
  {
   "cell_type": "markdown",
   "metadata": {},
   "source": [
    "3. Override the `__repr__` method for your class to return a string version of the object in the format: \"title (year) - runtime mins\", such as: Jurassic World (2015) - 124 mins. Then, print out your movie using a statment like print(m)"
   ]
  },
  {
   "cell_type": "code",
   "execution_count": 45,
   "metadata": {},
   "outputs": [
    {
     "name": "stdout",
     "output_type": "stream",
     "text": [
      "The title is Best Movie Ever (2020) 190 minutes\n"
     ]
    }
   ],
   "source": [
    "new_movie.__repr__()\n",
    "print(new_movie)"
   ]
  },
  {
   "cell_type": "markdown",
   "metadata": {},
   "source": [
    "4. Add a method to your class to return the runtime in hours and minutes (it should calculate and return both of these... yes functions can return multiple things). Verify that this method works."
   ]
  },
  {
   "cell_type": "code",
   "execution_count": 46,
   "metadata": {},
   "outputs": [
    {
     "name": "stdout",
     "output_type": "stream",
     "text": [
      "Hours: 3\n",
      "10\n"
     ]
    }
   ],
   "source": [
    "hours, minutes = new_movie.runtime_hours()\n",
    "print(f\"Hours: {hours}\")\n",
    "print(minutes)"
   ]
  },
  {
   "cell_type": "markdown",
   "metadata": {},
   "source": [
    "5. Make it so that your init function (aka constructor) can accept a title, year, and runtime if they are passed when the object is created, and set the values accordingly (but it should also allow creation of a movie with out those, using default values like \"\", 0, 0)."
   ]
  },
  {
   "cell_type": "code",
   "execution_count": 47,
   "metadata": {},
   "outputs": [
    {
     "name": "stdout",
     "output_type": "stream",
     "text": [
      "The title is New title (0) 0 minutes\n"
     ]
    }
   ],
   "source": [
    "new_movie2 = Movie(\"New title\")\n",
    "print(new_movie2)"
   ]
  },
  {
   "cell_type": "markdown",
   "metadata": {},
   "source": [
    "6. Add logic to your init function so that if the supplied runtime is less than 0, the runtime is set to 0 instead of the value supplied."
   ]
  },
  {
   "cell_type": "code",
   "execution_count": 48,
   "metadata": {},
   "outputs": [
    {
     "name": "stdout",
     "output_type": "stream",
     "text": [
      "The title is New Movie (2020) 0 minutes\n"
     ]
    }
   ],
   "source": [
    "new_movie3 = Movie(\"New Movie\", 2020, -5)\n",
    "print(new_movie3)"
   ]
  },
  {
   "cell_type": "markdown",
   "metadata": {},
   "source": [
    "## Part 2 - Lists, List Comprehensions, Dictionaries"
   ]
  },
  {
   "cell_type": "markdown",
   "metadata": {},
   "source": [
    "1. Create a function called create_movie_list() that returns a list of movies. It should create 4-5 movies, add them to a list, then return the list.\n",
    "\n"
   ]
  },
  {
   "cell_type": "code",
   "execution_count": 49,
   "metadata": {},
   "outputs": [],
   "source": [
    "def create_movie_list():\n",
    "    return [Movie(\"New Movie 1\", 2020, 60),\n",
    "            Movie(\"New Movie 2\", 2020, 220),\n",
    "            Movie(\"New Movie 3\", 2020, 220),\n",
    "            Movie(\"New Movie 4\", 2020, 220),\n",
    "            Movie(\"New Movie 5\", 2020, 120),\n",
    "            Movie(\"New Movie 6\", 2020, 120),]\n",
    "    "
   ]
  },
  {
   "cell_type": "markdown",
   "metadata": {},
   "source": [
    "2. Call the create_movie_list() function, then iterates through each item in the list and displays it.\n"
   ]
  },
  {
   "cell_type": "code",
   "execution_count": 50,
   "metadata": {},
   "outputs": [
    {
     "name": "stdout",
     "output_type": "stream",
     "text": [
      "The title is New Movie 1 (2020) 60 minutes\n",
      "The title is New Movie 2 (2020) 220 minutes\n",
      "The title is New Movie 3 (2020) 220 minutes\n",
      "The title is New Movie 4 (2020) 220 minutes\n",
      "The title is New Movie 5 (2020) 120 minutes\n",
      "The title is New Movie 6 (2020) 120 minutes\n"
     ]
    }
   ],
   "source": [
    "movie_list = create_movie_list()\n",
    "print(*movie_list, sep=\"\\n\")\n"
   ]
  },
  {
   "cell_type": "markdown",
   "metadata": {},
   "source": [
    "3. Use a list comprehension to create a new list based on your original list, for all movies that have a runtime greater than 150 minutes. Loop through this list and print them out to ensure that it worked correctly.\n"
   ]
  },
  {
   "cell_type": "code",
   "execution_count": 51,
   "metadata": {},
   "outputs": [
    {
     "name": "stdout",
     "output_type": "stream",
     "text": [
      "The title is New Movie 2 (2020) 220 minutes\n",
      "The title is New Movie 3 (2020) 220 minutes\n",
      "The title is New Movie 4 (2020) 220 minutes\n"
     ]
    }
   ],
   "source": [
    "long_movie_list = []\n",
    "\n",
    "for i in movie_list:\n",
    "    if int(i.runtime) >= 180:\n",
    "       long_movie_list.append(i)\n",
    "    \n",
    "print(*long_movie_list, sep=\"\\n\")"
   ]
  },
  {
   "cell_type": "markdown",
   "metadata": {},
   "source": [
    "4. Create a dictionary that maps movie titles to an average number of stars from the users (e.g., 4.3 stars). Add each movie title in your list to your dictionary as the key, then use a library to get a random number, and assign each movie a number of stars (0 <= stars <= 5) (including decimals).\n",
    "\n"
   ]
  },
  {
   "cell_type": "code",
   "execution_count": 71,
   "metadata": {},
   "outputs": [
    {
     "name": "stdout",
     "output_type": "stream",
     "text": [
      "{1.5: 'New Movie 1', 2.94: 'New Movie 2', 0.77: 'New Movie 3', 2.92: 'New Movie 4', 2.9: 'New Movie 5', 4.49: 'New Movie 6'}\n"
     ]
    }
   ],
   "source": [
    "import random\n",
    "\n",
    "movie_dict = {}\n",
    "\n",
    "for i in movie_list:\n",
    "    movie_dict.update({round(random.uniform(0, 5), 2): i.title})\n",
    "\n",
    "print(movie_dict)"
   ]
  },
  {
   "cell_type": "markdown",
   "metadata": {},
   "source": [
    "5. Loop through the dictionary and display the title of each movie with the number of stars it has received, showing the number of stars to 2 decimals of precision."
   ]
  },
  {
   "cell_type": "code",
   "execution_count": 77,
   "metadata": {},
   "outputs": [
    {
     "name": "stdout",
     "output_type": "stream",
     "text": [
      "{1.5: 'New Movie 1', 2.94: 'New Movie 2', 0.77: 'New Movie 3', 2.92: 'New Movie 4', 2.9: 'New Movie 5', 4.49: 'New Movie 6'}\n"
     ]
    }
   ],
   "source": [
    "print(movie_dict)"
   ]
  },
  {
   "cell_type": "markdown",
   "metadata": {},
   "source": [
    "## Part 3 - NumPy"
   ]
  },
  {
   "cell_type": "markdown",
   "metadata": {},
   "source": [
    "1. Assume now that we had a dataset that had three columns (all numeric): id, views, stars. Create a function that creates and returns a 2D numpy array with or random values for 10 movies and these 3 columns.\n",
    "\n",
    "You can use the following function for this:"
   ]
  },
  {
   "cell_type": "code",
   "execution_count": 53,
   "metadata": {},
   "outputs": [],
   "source": [
    "import numpy as np\n",
    "\n",
    "def get_movie_data():\n",
    "    \"\"\"\n",
    "    Generate a numpy array of movie data\n",
    "    :return:\n",
    "    \"\"\"\n",
    "    num_movies = 10\n",
    "    array = np.zeros([num_movies, 3], dtype=np.float)\n",
    "\n",
    "    for i in range(num_movies):\n",
    "        # There is nothing magic about 100 here, just didn't want ids\n",
    "        # to match the row numbers\n",
    "        movie_id = i + 100\n",
    "\n",
    "        # Lets have the views range from 100-10000\n",
    "        views = random.randint(100, 10000)\n",
    "        stars = random.uniform(0, 5)\n",
    "\n",
    "        array[i][0] = movie_id\n",
    "        array[i][1] = views\n",
    "        array[i][2] = stars\n",
    "\n",
    "    return array\n"
   ]
  },
  {
   "cell_type": "markdown",
   "metadata": {},
   "source": [
    "2. Call this function and get the 2D numpy array. Then, find a way to display the number of rows in this array. On another line, display the number of columns."
   ]
  },
  {
   "cell_type": "code",
   "execution_count": 104,
   "metadata": {},
   "outputs": [
    {
     "name": "stdout",
     "output_type": "stream",
     "text": [
      "[[1.00000000e+02 8.36400000e+03 9.67290230e-02]\n",
      " [1.01000000e+02 2.94500000e+03 3.72114734e+00]\n",
      " [1.02000000e+02 1.06300000e+03 3.46366170e+00]\n",
      " [1.03000000e+02 4.83400000e+03 2.43952243e+00]\n",
      " [1.04000000e+02 6.41500000e+03 3.75030687e+00]\n",
      " [1.05000000e+02 6.76100000e+03 8.85792806e-01]\n",
      " [1.06000000e+02 5.34200000e+03 4.41082595e+00]\n",
      " [1.07000000e+02 8.99400000e+03 1.13818400e+00]\n",
      " [1.08000000e+02 6.01100000e+03 1.16814100e+00]\n",
      " [1.09000000e+02 7.03200000e+03 3.23312204e+00]]\n",
      "(10, 3)\n",
      "Rows: 10\n",
      "Columns: 3\n"
     ]
    }
   ],
   "source": [
    "new_movie_data = get_movie_data()\n",
    "print(new_movie_data)\n",
    "print(new_movie_data.shape)\n",
    "print(\"Rows: \" + str(new_movie_data.shape[0]))\n",
    "print(\"Columns: \" + str(new_movie_data.shape[1]))"
   ]
  },
  {
   "cell_type": "markdown",
   "metadata": {},
   "source": [
    "3. Use slicing to grab the first two rows, and display the resulting dataset."
   ]
  },
  {
   "cell_type": "code",
   "execution_count": 105,
   "metadata": {},
   "outputs": [
    {
     "name": "stdout",
     "output_type": "stream",
     "text": [
      "[[1.00000000e+02 8.36400000e+03 9.67290230e-02]\n",
      " [1.01000000e+02 2.94500000e+03 3.72114734e+00]]\n"
     ]
    }
   ],
   "source": [
    "row_splice = new_movie_data[0:2, :]\n",
    "print(row_splice)"
   ]
  },
  {
   "cell_type": "markdown",
   "metadata": {},
   "source": [
    "4. Use slicing to grab the last two columns, and display the resulting dataset."
   ]
  },
  {
   "cell_type": "code",
   "execution_count": 110,
   "metadata": {},
   "outputs": [
    {
     "name": "stdout",
     "output_type": "stream",
     "text": [
      "[[8.36400000e+03 9.67290230e-02]\n",
      " [2.94500000e+03 3.72114734e+00]\n",
      " [1.06300000e+03 3.46366170e+00]\n",
      " [4.83400000e+03 2.43952243e+00]\n",
      " [6.41500000e+03 3.75030687e+00]\n",
      " [6.76100000e+03 8.85792806e-01]\n",
      " [5.34200000e+03 4.41082595e+00]\n",
      " [8.99400000e+03 1.13818400e+00]\n",
      " [6.01100000e+03 1.16814100e+00]\n",
      " [7.03200000e+03 3.23312204e+00]]\n"
     ]
    }
   ],
   "source": [
    "column_splice = new_movie_data[:, 1:3]\n",
    "print(column_splice)"
   ]
  },
  {
   "cell_type": "markdown",
   "metadata": {},
   "source": [
    "5. From your 2D array, get a 1D array of all the values in the second column (views). Make sure you get this to a 1D array, not a 2D array with one column. When you display it, it should look like: `[18, 65, 38, 12]` not like: `[[18], [65], [38], [12]]`"
   ]
  },
  {
   "cell_type": "code",
   "execution_count": 114,
   "metadata": {},
   "outputs": [
    {
     "name": "stdout",
     "output_type": "stream",
     "text": [
      "[1.00000000e+02 8.36400000e+03 9.67290230e-02 1.01000000e+02\n",
      " 2.94500000e+03 3.72114734e+00 1.02000000e+02 1.06300000e+03\n",
      " 3.46366170e+00 1.03000000e+02 4.83400000e+03 2.43952243e+00\n",
      " 1.04000000e+02 6.41500000e+03 3.75030687e+00 1.05000000e+02\n",
      " 6.76100000e+03 8.85792806e-01 1.06000000e+02 5.34200000e+03\n",
      " 4.41082595e+00 1.07000000e+02 8.99400000e+03 1.13818400e+00\n",
      " 1.08000000e+02 6.01100000e+03 1.16814100e+00 1.09000000e+02\n",
      " 7.03200000e+03 3.23312204e+00]\n"
     ]
    }
   ],
   "source": [
    "x = new_movie_data.flatten()\n",
    "print(x)"
   ]
  },
  {
   "cell_type": "code",
   "execution_count": null,
   "metadata": {},
   "outputs": [],
   "source": []
  }
 ],
 "metadata": {
  "kernelspec": {
   "display_name": "Python 3",
   "language": "python",
   "name": "python3"
  },
  "language_info": {
   "codemirror_mode": {
    "name": "ipython",
    "version": 3
   },
   "file_extension": ".py",
   "mimetype": "text/x-python",
   "name": "python",
   "nbconvert_exporter": "python",
   "pygments_lexer": "ipython3",
   "version": "3.7.4"
  }
 },
 "nbformat": 4,
 "nbformat_minor": 4
}
